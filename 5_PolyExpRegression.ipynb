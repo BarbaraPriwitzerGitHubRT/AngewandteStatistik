{
 "cells": [
  {
   "cell_type": "markdown",
   "metadata": {},
   "source": [
    "Polynomiale und exponentielle Regression\n",
    "---\n",
    "\n",
    "Führen Sie eine polynomiale Regression durch für die Daten * anhalten.csv*, die beschreiben, wie lang der Anhalteweg $s$ (in m) eines PKWs ist in Abhängigkeit von der Geschwindigkeit $v$ (in km/h). Die entsprechende Formel ergibt sich als:\n",
    "$$\n",
    "s=v\\cdot t_R+\\frac{v^2}{2a};\n",
    "$$\n",
    "hierbei ist $t_R$ die Reaktionszeit und $a$ die Bremsverzögerung."
   ]
  },
  {
   "cell_type": "code",
   "execution_count": null,
   "metadata": {},
   "outputs": [],
   "source": [
    "import os, sys\n",
    "import math\n",
    "import numpy as np\n",
    "import scipy\n",
    "import pandas as pd\n",
    "\n",
    "import matplotlib.pyplot as plt #Graphics Package\n",
    "\n",
    "import statsmodels.api as sm\n",
    "\n",
    "\n",
    "anhalten=pd.read_table('anhalten.csv',delimiter=',')\n"
   ]
  },
  {
   "cell_type": "markdown",
   "metadata": {},
   "source": [
    "Zeichnen Sie ein Streudiagramm für die beiden Variable Geschwindigkeit und Anhalteweg."
   ]
  },
  {
   "cell_type": "code",
   "execution_count": null,
   "metadata": {},
   "outputs": [],
   "source": []
  },
  {
   "cell_type": "markdown",
   "metadata": {},
   "source": [
    "Bilden Sie ein lineares Modell mit der Variable Geschwindigkeit  als unabhängige Variable und Anhalteweg als abhängige Variable und zeichnen Sie die Regressionsgerade in das Streudiagramm ein. "
   ]
  },
  {
   "cell_type": "code",
   "execution_count": null,
   "metadata": {},
   "outputs": [],
   "source": [
    "myLinearModel=sm.OLS.from_formula(\" ~ \",data=) \n",
    "result=myLinearModel.fit()  #Berechnung der wichtigen Werte für das Modell\n",
    "\n",
    "ModellWerte=\n",
    "plt.plot()"
   ]
  },
  {
   "cell_type": "markdown",
   "metadata": {},
   "source": [
    "Bilden Sie nun eine quadratische  Regression für die Abhängigkeit des Anhaltewegs $y$ von der Geschwindigkeit $x$. Sie können das Ergebnis dieses Modell als Kurve in das Streudiagramm  plotten, indem Sie die Modellwerte *S* für den Anhalteweg für Geschwindigkeiten  $V$ von 30 bis 130 berechnen."
   ]
  },
  {
   "cell_type": "code",
   "execution_count": null,
   "metadata": {},
   "outputs": [],
   "source": [
    "myQuadraticModel = np.polyfit( , , )\n",
    "S=np.polyval( ,sorted( ))\n",
    "plt.plot( , \n",
    "\n",
    "plt.legend([ , , ],loc='upper left')\n"
   ]
  },
  {
   "cell_type": "markdown",
   "metadata": {},
   "source": [
    "Plotten Sie die Residualplots der beiden Modelle."
   ]
  },
  {
   "cell_type": "code",
   "execution_count": null,
   "metadata": {},
   "outputs": [],
   "source": [
    "plt.figure #neues Graphikfenster\n",
    "plt.subplot(121)  #die beiden Residualplots sollen nebeneinander geplottet werden\n",
    "plt.scatter( , )\n",
    "plt.xlabel(' ')\n",
    "plt.ylabel(' ')\n",
    "plt.title(' ')\n",
    "\n",
    "plt.subplot(122)  \n",
    "plt.scatter( , )\n",
    "plt.xlabel(' ')\n",
    "plt.ylabel(' ')\n",
    "plt.title(' ')"
   ]
  },
  {
   "cell_type": "markdown",
   "metadata": {},
   "source": [
    " Nutzen Sie das quadratische Regression aus c), um die Reaktionszeit (in s) und die Bremsverzögerung (in m/$s^2$) mit Hilfe der Gleichung \\ref{eq:Brems} abzuschätzen. \n"
   ]
  },
  {
   "cell_type": "markdown",
   "metadata": {},
   "source": [
    "Die barometrische Höhenformel beschreibt wie der Luftdruck von der Höhe über dem Meeresspiegel abhängt: \n",
    "$$\n",
    "p(h)=p_0\\exp(-\\frac{\\rho}{p_0}gh).\n",
    "$$\n",
    "Dabei wird der Luftdruck in hPa gemessen, der Druck $p_0$ auf Höhe des Meeresspiegels ist 1000 hPa, $\\rho$ ist die Dichte der Luft und $g=9.81 \\frac{m}{s^2}$ die Erdbeschleunigung.\n",
    "\n",
    "Die Daten *luftdruck.csv* enthalten Luftdruckmessungen in verschiedenen Höhen.\n",
    "\n",
    "Zeichnen Sie ein Streudiagramm für die beiden Variable Höhe und Luftdruck."
   ]
  },
  {
   "cell_type": "code",
   "execution_count": null,
   "metadata": {},
   "outputs": [],
   "source": [
    "luftdruck=pd.read_table('luftdruck.csv',delimiter=',')\n",
    "\n",
    "plt.scatter( , )"
   ]
  },
  {
   "cell_type": "markdown",
   "metadata": {},
   "source": [
    "Bilden Sie ein lineares Modell mit der Variable Höhe $h$ als unabhängige Variable und Luftdruck $p$ als abhängige Variable und zeichnen Sie die Regressionsgerade in das Streudiagramm  ein. "
   ]
  },
  {
   "cell_type": "code",
   "execution_count": null,
   "metadata": {},
   "outputs": [],
   "source": [
    "myLinearModel=sm.OLS.from_formula(\" ~ \",data= ) \n",
    "result=myLinearModel.fit()  #Berechnung der wichtigen Werte für das Modell\n",
    "\n",
    "ModellWerte=\n",
    "plt.plot( , )\n"
   ]
  },
  {
   "cell_type": "markdown",
   "metadata": {},
   "source": [
    " Bilden Sie nun ein exponentielles Modell, in dem Sie zunächst die Koeffizienten $a$ und $b$ für einen lineare Abhängigkeit für  $\\log(p)$ von der Höhe $h$ bestimmen. Dann können Sie die Modellkurve $log(a)\\cdot \\exp(b\\cdot h)$ ebenfalls in das Streudiagramm  einzeichnen."
   ]
  },
  {
   "cell_type": "code",
   "execution_count": null,
   "metadata": {},
   "outputs": [],
   "source": [
    "z=np.log( )\n",
    "myData=pd.DataFrame( ,z)\n",
    "myExpModel=sm.OLS.from_formula(\"z~ \",data= ) \n",
    "ExpResult=myExpModel.fit()\n",
    "\n",
    "ExpModellWerte=\n",
    "plt.plot( ,np.exp(ExpModellWerte))\n",
    "plt.legend(['' ,'', ''],loc='upper left')\n"
   ]
  },
  {
   "cell_type": "markdown",
   "metadata": {},
   "source": [
    " Vergleichen Sie die Residualplots der beiden Modelle."
   ]
  },
  {
   "cell_type": "code",
   "execution_count": null,
   "metadata": {},
   "outputs": [],
   "source": [
    "plt.figure #neues Graphikfenster\n",
    "plt.subplot(121)  #die beiden Residualplots sollen nebeneinander geplottet werden\n",
    "plt.scatter( , )\n",
    "plt.xlabel(' ')\n",
    "plt.ylabel(' ')\n",
    "plt.title(' ')\n",
    "\n",
    "S=np.exp(ExpModellWerte)\n",
    "plt.subplot(122)  \n",
    "plt.scatter(S, )\n",
    "plt.xlabel(' ')\n",
    "plt.ylabel(' ')\n",
    "plt.title(' ')\n"
   ]
  },
  {
   "cell_type": "markdown",
   "metadata": {},
   "source": [
    "Nutzen Sie die Koeffizienten des exponentiellen Modells aus c), um die Dichte der Luft gemäß der barometrischen Höhenformel  zu bestimmen; beachten Sie dabei, dass gilt $1 Pa = 1 \\frac{kg}{m^3}$."
   ]
  },
  {
   "cell_type": "code",
   "execution_count": null,
   "metadata": {},
   "outputs": [],
   "source": []
  }
 ],
 "metadata": {
  "kernelspec": {
   "display_name": "Python 3",
   "language": "python",
   "name": "python3"
  },
  "language_info": {
   "codemirror_mode": {
    "name": "ipython",
    "version": 3
   },
   "file_extension": ".py",
   "mimetype": "text/x-python",
   "name": "python",
   "nbconvert_exporter": "python",
   "pygments_lexer": "ipython3",
   "version": "3.7.4"
  }
 },
 "nbformat": 4,
 "nbformat_minor": 2
}

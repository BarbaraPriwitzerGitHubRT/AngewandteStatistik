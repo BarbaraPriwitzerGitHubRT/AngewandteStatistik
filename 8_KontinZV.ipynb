{
 "cells": [
  {
   "cell_type": "markdown",
   "metadata": {},
   "source": [
    "Kontinuierliche Zufallsvariable\n",
    "--"
   ]
  },
  {
   "cell_type": "code",
   "execution_count": null,
   "metadata": {},
   "outputs": [],
   "source": [
    "galton=pd.read_table('GaltonFamilies.csv',delimiter=',')\n",
    "\n",
    "father_height=galton.father"
   ]
  },
  {
   "cell_type": "markdown",
   "metadata": {},
   "source": [
    "Zeichnen Sie ein Histogramme für die Größe vom Vater mit der Option *density=True*, damit relative, nicht absolute Häufigkeiten angezeigt werden."
   ]
  },
  {
   "cell_type": "code",
   "execution_count": null,
   "metadata": {},
   "outputs": [],
   "source": [
    "plt.figure()\n",
    "\n",
    "plt.hist( ,density=True)\n",
    "plt.title(' ')\n",
    "plt.xlabel(' ')\n",
    "plt.ylabel(' ')\n"
   ]
  },
  {
   "cell_type": "markdown",
   "metadata": {},
   "source": [
    "Berechnen Sie Erwartungswert und Standardabweichung der Größe vom Vater und geben Sie diese Werte in einer Konsolenausgabe durch *print* mit zugehörigem Text  aus."
   ]
  },
  {
   "cell_type": "code",
   "execution_count": null,
   "metadata": {},
   "outputs": [],
   "source": [
    "print(\"%.3f ist der Mittelwert der gemessenen Daten für die Väter.\\n\" % np.mean(father_height) )\n",
    "\n",
    "\n",
    "\n",
    "print(' ' % )\n"
   ]
  },
  {
   "cell_type": "markdown",
   "metadata": {},
   "source": [
    "Ergänzen Sie Diagramm A durch die Dichtefunktion der zugehörigen Normalverteilung, d.h. mit demselben Erwartungswert und Standardabweichung  wie die Daten. Dazu erzeugen Sie zunächst $x$ - Werte im Abstand von $0.1$:\n",
    "\n",
    "\n",
    "\n",
    "Dann berechnen Sie jeweils den Wert der Dichtefunktion, um die $y$ -Koordinaten für der Graphik zu erhalten."
   ]
  },
  {
   "cell_type": "code",
   "execution_count": null,
   "metadata": {},
   "outputs": [],
   "source": [
    "x= np.arange(np.min(father_height),np.max(father_height),0.1) # x-Werte\n",
    "y=norm.pdf(x, , )\n",
    "plt.plot(x, y) #plot mit zugehörigen y-Werten"
   ]
  },
  {
   "cell_type": "markdown",
   "metadata": {},
   "source": [
    "Erzeugen Sie  1000 zufällige, normalverteilte Daten, jeweils mit Erwartungswert und Standardabweichung  von *father_height*. Berechnen Sie für diese zufällig erzeugten  Daten jeweils Mittelwert und Standardabweichung und geben Sie diese Werte in der Konsole mit zugehörigem Text aus."
   ]
  },
  {
   "cell_type": "code",
   "execution_count": 1,
   "metadata": {},
   "outputs": [
    {
     "ename": "SyntaxError",
     "evalue": "invalid syntax (<ipython-input-1-ab7b84b231f3>, line 1)",
     "output_type": "error",
     "traceback": [
      "\u001b[1;36m  File \u001b[1;32m\"<ipython-input-1-ab7b84b231f3>\"\u001b[1;36m, line \u001b[1;32m1\u001b[0m\n\u001b[1;33m    simData = np.random.normal( , , 1000)\u001b[0m\n\u001b[1;37m                                ^\u001b[0m\n\u001b[1;31mSyntaxError\u001b[0m\u001b[1;31m:\u001b[0m invalid syntax\n"
     ]
    }
   ],
   "source": [
    "simData = np.random.normal( , , 1000)\n",
    "\n",
    "print(' ' % )\n",
    "\n",
    "print(' ' % )\n"
   ]
  },
  {
   "cell_type": "markdown",
   "metadata": {},
   "source": [
    "Zeichnen Sie für die simulierten Daten aus wieder ein  Histogramm  mit der zugehörigen Normalverteilungskurve. "
   ]
  },
  {
   "cell_type": "code",
   "execution_count": null,
   "metadata": {},
   "outputs": [],
   "source": [
    "plt.hist( ,density=True)\n",
    "plt.title('Simulierte Größe des Vaters')\n",
    "plt.xlabel('Größe in inch')\n",
    "plt.ylabel('Wahrscheinlichkeit')\n",
    "x= np.arange(  ,  ,0.1)\n",
    "y=norm.pdf(x, , )\n",
    "plt.plot(x,norm.pdf(x, , ))\n",
    "\n"
   ]
  },
  {
   "cell_type": "markdown",
   "metadata": {},
   "source": [
    " Bestimmen Sie die Werte der empirischen Verteilungsfunktion. Unterteilen Sie dazu das Intervall zwischen größtem und kleinstem Wert von der Größe vom Vater in 100 Teilintervalle der gleichen Länge *bin*. \n",
    "\n",
    "\n",
    "Dann bestimmen Sie in einer Schleife zu jedem Intervallende, wie groß der relative Anteil von Werten ist, die kleiner oder gleich diesem Intervallende sind. Das sind Werte der empirischen Verteilungsfunktion."
   ]
  },
  {
   "cell_type": "code",
   "execution_count": null,
   "metadata": {},
   "outputs": [],
   "source": [
    "fatherHeightMin =  \n",
    "fatherHeightMax =\n",
    "#Unterteilung des Bereichs\n",
    "bin=(fatherHeightMax-fatherHeightMin)/100\n",
    "\n",
    "empProbFct= [0] * 100\n",
    "n,m=galton.shape\n",
    "for k in range(100):\n",
    "    empProbFct[k]=np.sum(father_height<(fatherHeightMin+k*bin))/n \n",
    "    #Berechnung der empirischen Werte der Verteilungsfunktion\n"
   ]
  },
  {
   "cell_type": "markdown",
   "metadata": {},
   "source": [
    " Zeichnen Sie in ein gemeinsames Diagramm in einem separaten Graphikfenster die empirische Verteilungsfunktion  und die theoretische Verteilungsfunktion der Normalverteilung mit Erwartungswert und Standardabweichung für *father_height*. "
   ]
  },
  {
   "cell_type": "code",
   "execution_count": null,
   "metadata": {},
   "outputs": [],
   "source": [
    "#Graphische Darstellung der empirischen Verteilungsfunktion\n",
    "plt.figure()\n",
    "plt.plot(fatherHeightMin+np.arange(100)*bin,empProbFct)\n",
    "plt.xlabel(' ')\n",
    "plt.ylabel(' ')\n",
    "plt.title(' ')\n",
    "# Ergänzung um theoretische Verteilungsfunktion\n",
    "x= np.arange( , )\n",
    "y= norm.cdf(x, , )\n",
    "plt.plot(x,y)\n",
    "plt.legend(['empirisch','theoretisch'])"
   ]
  }
 ],
 "metadata": {
  "kernelspec": {
   "display_name": "Python 3",
   "language": "python",
   "name": "python3"
  },
  "language_info": {
   "codemirror_mode": {
    "name": "ipython",
    "version": 3
   },
   "file_extension": ".py",
   "mimetype": "text/x-python",
   "name": "python",
   "nbconvert_exporter": "python",
   "pygments_lexer": "ipython3",
   "version": "3.7.4"
  }
 },
 "nbformat": 4,
 "nbformat_minor": 2
}

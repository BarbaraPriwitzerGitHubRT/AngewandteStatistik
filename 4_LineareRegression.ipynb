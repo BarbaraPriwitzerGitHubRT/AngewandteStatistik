{
 "cells": [
  {
   "cell_type": "markdown",
   "metadata": {},
   "source": [
    "Lineare Regression\n",
    "----------\n",
    "Wir verwenden  die {\\it Galton families} - Daten, die von Sir Francis Galton im 19. Jahrhundert gesammelt wurden. Galton war ein sehr vielseitiger Forscher, der wichtige Beiträge zur Statistik geleistet hat, allerdings gilt er auch als einer der Begründer der Eugenik. Die acht Spalten der Daten sind\n",
    "\n",
    "- eine ID für die Familie (204 verschiedene Familien) (*family*);\n",
    "- die Größe des Vaters (in inch)  (*father*);\n",
    "- die Größe der Mutter (in inch)  (*mother*);\n",
    "- die mittlere Größe der Eltern: 0.5(Größe Vater + 1.08 Größe Mutter)  (*midparentHeight*);\n",
    "- Anzahl Kinder in der Familie  (*children*);\n",
    "- Nummer des Kindes in der Familie (geordnet nach Junge und Mädchen, jeweils das größte Kind zuerst)  (*childNum*);\n",
    "- Geschlecht des Kindes  (*gender*);\n",
    "- Größe des Kindes (in inch)  (*childHeight*).\n",
    "\n",
    "\n"
   ]
  },
  {
   "cell_type": "code",
   "execution_count": 2,
   "metadata": {},
   "outputs": [],
   "source": [
    "import numpy as np\n",
    "import pandas as pd\n",
    "\n",
    "import os\n",
    "\n",
    "os.chdir('C:\\\\Users\\\\Priwitzer\\\\Documents\\\\StatistikfIng\\\\Python\\\\4_LineareRegression')\n",
    "\n",
    "GaltonData=pd.read_table('GaltonFamilies.csv',delimiter=',')\n"
   ]
  },
  {
   "cell_type": "markdown",
   "metadata": {},
   "source": [
    "Zeichnen Sie ein Streudiagramm für die beiden Variable *midparentHeight* und *ChildHeight*  und berechnen Sie die Korrelation der beiden Variable."
   ]
  },
  {
   "cell_type": "code",
   "execution_count": 4,
   "metadata": {},
   "outputs": [
    {
     "ename": "AttributeError",
     "evalue": "module 'numpy' has no attribute 'corcoeff'",
     "output_type": "error",
     "traceback": [
      "\u001b[1;31m---------------------------------------------------------------------------\u001b[0m",
      "\u001b[1;31mAttributeError\u001b[0m                            Traceback (most recent call last)",
      "\u001b[1;32m<ipython-input-4-da7731a4d83c>\u001b[0m in \u001b[0;36m<module>\u001b[1;34m\u001b[0m\n\u001b[0;32m     15\u001b[0m \u001b[1;31m#plt.ylabel('')\u001b[0m\u001b[1;33m\u001b[0m\u001b[1;33m\u001b[0m\u001b[1;33m\u001b[0m\u001b[0m\n\u001b[0;32m     16\u001b[0m \u001b[1;31m#Korrelationskoeffizient\u001b[0m\u001b[1;33m\u001b[0m\u001b[1;33m\u001b[0m\u001b[1;33m\u001b[0m\u001b[0m\n\u001b[1;32m---> 17\u001b[1;33m \u001b[0mnp\u001b[0m\u001b[1;33m.\u001b[0m\u001b[0mcorcoeff\u001b[0m\u001b[1;33m(\u001b[0m\u001b[1;33m)\u001b[0m\u001b[1;33m\u001b[0m\u001b[1;33m\u001b[0m\u001b[0m\n\u001b[0m",
      "\u001b[1;31mAttributeError\u001b[0m: module 'numpy' has no attribute 'corcoeff'"
     ]
    },
    {
     "data": {
      "image/png": "[encoded data removed]",
      "text/plain": [
       "<Figure size 432x288 with 1 Axes>"
      ]
     },
     "metadata": {
      "needs_background": "light"
     },
     "output_type": "display_data"
    }
   ],
   "source": [
    "import matplotlib.pyplot as plt\n",
    "\n",
    "\n",
    "plt.plot()\n",
    "plt.title('')\n",
    "plt.xlabel('')\n",
    "plt.ylabel('')\n",
    "#Korrelationskoeffizient\n",
    "np.corcoeff()"
   ]
  },
  {
   "cell_type": "markdown",
   "metadata": {},
   "source": [
    "Bilden Sie ein lineares Modell mit der Variable *midparentHeight*  als unabhängige Variable und *Child Height* als abhängige Variable. Schreiben Sie die Gleichung für das lineare Modell auf. Welchen Wert für *Child Height* sagt das Modell voraus, wenn *midparentHeight* den Wert 70 hat?"
   ]
  },
  {
   "cell_type": "code",
   "execution_count": null,
   "metadata": {},
   "outputs": [],
   "source": [
    "import statsmodels.api as sm\n",
    "#Package, um statistische Modelle zu bilden\n",
    "\n",
    "#Lineares Modell OLS = ordinary least square\n",
    "model=sm.OLS.from_formula(\" ~ \", data=GaltonData ) #hier die Variablen vor und nach ~ eintragen\n",
    "#~ bedeutet \"in Abhaengigkeit von\"\n",
    "\n",
    "\n",
    "result=model.fit()  #Berechnung der wichtigen Werte für das Modell\n",
    "\n",
    "print(result.params) #Regressionkoeffizienten\n",
    "\n",
    "\n",
    "\n",
    "#Vorhersage für MidParentHeight \n",
    "\n",
    "result.predict(exog=dict(midparentHeight=[ ])) #exog = unabhängige Variable\n",
    "\n",
    "# aus der Beschreibung von statsmodels\n",
    "#If a formula was used, then exog is processed in the same way as the original data. \n",
    "#This transformation needs to have key access to the same variable names, \n",
    "#and can be a pandas DataFrame or a dict like object that contains numpy arrays.\n",
    "\n",
    "#Das bedeutet:\n",
    "# der Name der unabhängigen Variable muss erscheinen\n",
    "# die Zuordnung erfolgt entweder als ein DataFrame oder mit dict\n",
    "\n",
    "\n"
   ]
  },
  {
   "cell_type": "markdown",
   "metadata": {},
   "source": [
    "Zeichnen Sie jetzt das Streudiagramm mit Regressionsgerade."
   ]
  },
  {
   "cell_type": "code",
   "execution_count": null,
   "metadata": {},
   "outputs": [],
   "source": [
    "plt.plot()\n",
    "plt.title('')\n",
    "plt.xlabel('')\n",
    "plt.ylabel('')\n",
    "\n",
    "\n",
    "plt.plot(,'r')\n",
    "plt.legend(['Modell','Daten'],loc='upper left')\n"
   ]
  },
  {
   "cell_type": "markdown",
   "metadata": {},
   "source": [
    "Plotten Sie den Residualplot. Was können Sie daran erkennen?\n"
   ]
  },
  {
   "cell_type": "code",
   "execution_count": null,
   "metadata": {},
   "outputs": [],
   "source": [
    "#Residualplot\n",
    "plt.figure()\n",
    "plt.scatter() #Residualplot\n",
    "plt.plot([np.min(),np.max()],[0,0],':r') #Nulllinie\n",
    "plt.xlabel('')\n",
    "plt.ylabel('')\n",
    "plt.title('')"
   ]
  }
 ],
 "metadata": {
  "kernelspec": {
   "display_name": "Python 3",
   "language": "python",
   "name": "python3"
  },
  "language_info": {
   "codemirror_mode": {
    "name": "ipython",
    "version": 3
   },
   "file_extension": ".py",
   "mimetype": "text/x-python",
   "name": "python",
   "nbconvert_exporter": "python",
   "pygments_lexer": "ipython3",
   "version": "3.7.4"
  }
 },
 "nbformat": 4,
 "nbformat_minor": 2
}

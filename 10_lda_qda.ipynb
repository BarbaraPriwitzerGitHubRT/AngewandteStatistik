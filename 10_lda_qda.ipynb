{
 "cells": [
  {
   "cell_type": "markdown",
   "metadata": {},
   "source": [
    "Lineare und quadratische Diskriminanzanalyse\n",
    "--\n",
    "\n",
    "Die Daten horse-colic.csv enthalten medizinische Werte zu Pferden und die Information, wie die Tiere behandelt wurden: Variable *surgery* mit den Werten 1 für *surgery* und 2 für *treated without surgery*. "
   ]
  },
  {
   "cell_type": "code",
   "execution_count": null,
   "metadata": {},
   "outputs": [],
   "source": [
    "import os, sys\n",
    "import math\n",
    "import numpy as np\n",
    "import scipy\n",
    "import pandas as pd\n",
    "################\n",
    "# Naive Bayes Klassifikation\n",
    "################\n",
    "\n",
    "#%%\n",
    "###\n",
    "# HorseDaten\n",
    "horse_nan=pd.read_table('horse-colic.csv',delimiter=',',na_values='?', header=None)\n"
   ]
  },
  {
   "cell_type": "markdown",
   "metadata": {},
   "source": [
    " Ersetzen Sie nach dem Einlesen zunächst alle NaN-Werte durch $-1$.\n",
    "\n",
    "Nutzen Sie die Merkmale 4, 5, 6, 16, 19 und 20 um vorherzusagen, ob das Pferd operiert wurde. "
   ]
  },
  {
   "cell_type": "code",
   "execution_count": null,
   "metadata": {},
   "outputs": [],
   "source": [
    "# NaN Werte ersetzen\n",
    "horse= horse_nan.replace(np.nan, -1, regex=True)\n",
    "\n",
    "# kontinuierliche Merkmale auswählen\n",
    "horse=horse.iloc[:,[0,3,4,5,15,18,19]]\n",
    "\n",
    "# Zielvariable\n",
    "target=horse.iloc[:,0]\n",
    "\n",
    "# bei den Merkmalen die Klassenspalte entfernen\n",
    "X=horse.iloc[:,horse.columns != 0]\n"
   ]
  },
  {
   "cell_type": "markdown",
   "metadata": {},
   "source": [
    "Verwenden Sie den Naiven Bayes - Klassifikator für kontinuierliche Merkmale. Wie viel Prozent der Fälle werden korrekt vorhergesagt (Genauigkeit)?\n"
   ]
  },
  {
   "cell_type": "code",
   "execution_count": null,
   "metadata": {},
   "outputs": [],
   "source": [
    "#Naiver Bayes\n",
    "\n",
    "from sklearn.naive_bayes import GaussianNB\n",
    "\n",
    "myClass=GaussianNB()\n",
    "\n",
    "#Modell aus den Daten\n",
    "myBayes = myClass.fit( , )\n",
    "\n",
    "#Vor hersagen\n",
    "classes_NB=myBayes.predict( )\n",
    "\n",
    "#korrekt klassifiziert\n",
    "n= \n",
    "correct_NB=np.sum(classes_NB==target)/n\n",
    "\n",
    "print('%.2f %% von %d Daten wurden korrekt vorhergesagt.\\n' %(correct_NB*100, n))\n"
   ]
  },
  {
   "cell_type": "markdown",
   "metadata": {},
   "source": [
    "Wiederholen Sie die Vorhersage mit der linearen bzw. quadratischen Diskriminanzanalyse. Vergleichen Sie die Werte, die Sie so erhalten."
   ]
  },
  {
   "cell_type": "code",
   "execution_count": null,
   "metadata": {},
   "outputs": [],
   "source": [
    "from sklearn.discriminant_analysis import LinearDiscriminantAnalysis\n",
    "\n",
    "#Lineare Diskriminanzanalyse\n",
    "#Modell\n",
    "lda = LinearDiscriminantAnalysis()\n",
    "myLDA=lda.fit( , )\n",
    "\n",
    "#Vorhersagen\n",
    "classesLin=myLDA.predict( )\n",
    "#korrekt klassifiziert\n",
    "correctLin=np.sum( == )/n\n",
    "print('%.2f %% von %d Daten wurden korrekt vorhergesagt.\\n' %(, n))\n",
    "\n",
    "\n",
    "\n",
    "from sklearn.discriminant_analysis import QuadraticDiscriminantAnalysis\n",
    "#Quadratische Diskriminanzanalyse\n",
    "#Modell\n",
    "qda = QuadraticDiscriminantAnalysis()\n",
    "myQDA= qda.fit( , )\n",
    "#Vorhersagen\n",
    "classesQuadr=myQDA.predict()\n",
    "\n",
    "#korrekt klassifiziert\n",
    "correctQuad=np.sum( )/n\n",
    "print('%.2f %% von %d Daten wurden korrekt vorhergesagt.\\n' %)\n",
    "\n"
   ]
  },
  {
   "cell_type": "markdown",
   "metadata": {},
   "source": [
    "Bestimmen Sie für alle drei obige Klassifikationen den F1-Score (positiv: *surgery = 1*)."
   ]
  },
  {
   "cell_type": "code",
   "execution_count": null,
   "metadata": {},
   "outputs": [],
   "source": [
    "# zunächst True Positive etc. bestimmen im Fall des Bayes Klassifikator\n",
    "tp_nb=0\n",
    "fp_nb=0\n",
    "tn_nb=0\n",
    "fn_nb=0\n",
    "for i in range(horse[0].count()):\n",
    "    if classes_NB[i]==1:\n",
    "        if target[i]==1:\n",
    "            tp_nb  =tp_nb+1\n",
    "        else:\n",
    "            fp_nb=fp_nb+1\n",
    "    else:\n",
    "        if target[i]==1:\n",
    "            fn_nb=fn_nb+1\n",
    "        else:\n",
    "            tn_nb=tn_nb+1\n",
    "\n",
    "\n",
    "#Recall, Precision and F1-Score\n",
    "Rec_nb=tp_nb/(tp_nb+fn_nb)\n",
    "Prec_nb= \n",
    "\n",
    "# F1 Score\n",
    "F1_nb=\n",
    "print('Der F1 Score für den Naiven Bayes Klassifikator beträgt %.2f.\\n' %(F1_nb))\n",
    "\n",
    "#dann für lineare bzw. quadratische Diskriminanzanalyse wiederholen"
   ]
  }
 ],
 "metadata": {
  "kernelspec": {
   "display_name": "Python 3",
   "language": "python",
   "name": "python3"
  },
  "language_info": {
   "codemirror_mode": {
    "name": "ipython",
    "version": 3
   },
   "file_extension": ".py",
   "mimetype": "text/x-python",
   "name": "python",
   "nbconvert_exporter": "python",
   "pygments_lexer": "ipython3",
   "version": "3.7.4"
  }
 },
 "nbformat": 4,
 "nbformat_minor": 2
}

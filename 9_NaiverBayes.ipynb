{
 "cells": [
  {
   "cell_type": "markdown",
   "metadata": {},
   "source": [
    "Naiver Bayes Klassifikator\n",
    "--\n",
    "Für die  Daten *mifem.csv* zur Mortalität von Frauen mit Herzinfarkt soll es sein, die zweite Variable *outcome - dead/live* mit dem naiven Bayes-Klassifikator vorhergesagt werden.\n"
   ]
  },
  {
   "cell_type": "code",
   "execution_count": null,
   "metadata": {},
   "outputs": [],
   "source": [
    "import os, sys\n",
    "import math\n",
    "import numpy as np\n",
    "import scipy\n",
    "import pandas as pd\n",
    "\n",
    "\n",
    "###\n",
    "# Herzinfarkt Daten\n",
    "\n",
    "mifem=pd.read_table('mifem.csv',delimiter=',')\n",
    "\n"
   ]
  },
  {
   "cell_type": "markdown",
   "metadata": {},
   "source": [
    "Verwenden Sie die qualitativen Merkmale 5 bis 11 um vorherzusagen, ob die Patientin den Herzinfarkt überlebt hat. Wie viel Prozent der Fälle werden korrekt vorhergesagt?"
   ]
  },
  {
   "cell_type": "code",
   "execution_count": null,
   "metadata": {},
   "outputs": [],
   "source": [
    "from sklearn.naive_bayes import CategoricalNB #Naiver Bayes Klassifikator für diskrete/qualitative Daten\n",
    "\n",
    "\n",
    "myClass=CategoricalNB()\n",
    "\n",
    "\n",
    "#######\n",
    "\n",
    "from sklearn import preprocessing\n",
    "\n",
    "\n",
    "\n",
    "\n",
    "#Beobachtungsdaten zur Vorhersage\n",
    "X=mifem.iloc[:,4:10] \n",
    "\n",
    "# Kodierung der qualitativen Merkmale\n",
    "encF = preprocessing.OrdinalEncoder()\n",
    "encF.fit(X)\n",
    "Features=encF.transform(X)\n",
    "\n",
    "\n",
    "\n",
    "\n",
    "\n",
    "#Vorhersage-Variable \n",
    "Y=mifem.iloc[:,1]\n",
    "\n",
    "#Transformation der Klassen#\n",
    "encL = preprocessing.LabelEncoder()\n",
    "encL.fit(Y)\n",
    "classes=encL.transform(Y)\n",
    "\n",
    "\n",
    "#Naives Bayes Modell\n",
    "myBayes = myClass.fit(Features,classes)\n",
    "\n",
    "#Vorhersagen mit dem Modell für die Daten\n",
    "Predicted=myBayes.predict(Features)\n",
    "Label=encL.inverse_transform(Predicted)\n",
    "\n",
    "correct = \n",
    "\n",
    "print('%.2f %% der Fälle werden korrekt vorhergesagt.' %correct)"
   ]
  },
  {
   "cell_type": "markdown",
   "metadata": {},
   "source": [
    "Bestimmen Sie, wie viel Prozent der Fälle mit tödlichem Ausgang korrekt erkannt werden und wie viel Prozent der Überlebenden korrekt erkannt werden (Klassenfehler).\n"
   ]
  },
  {
   "cell_type": "code",
   "execution_count": null,
   "metadata": {},
   "outputs": [],
   "source": [
    "\n",
    "\n",
    "correct_dead =\n",
    "\n",
    "print('%.2f %% der Toten werden korrekt vorhergesagt.' %correct_dead)\n",
    "\n",
    "\n",
    "\n",
    "correct_live =\n",
    "\n",
    "print('%.2f %% der Überlebenden werden korrekt vorhergesagt.' %correct_live)\n",
    "\n",
    "\n",
    "\n"
   ]
  },
  {
   "cell_type": "markdown",
   "metadata": {},
   "source": [
    "Bestimmen Sie die Sensitivität und die Spezifität. Bei diesen Begriff geht es um Zwei-Klassen Probleme mit den Klassen positiv (P) und negativ (N). Die Sensitivität $Sens$ gibt an, wie viel Prozent der tatsächlich Positiven als positiv erkannt werden\n",
    "$$\n",
    "Sens=\\frac{TP}{TP+FN};\n",
    "$$\n",
    "die Spezifität $Spez$ sagt aus, wie viel Prozent der tatsächlich Negativen  als negativ erkannt werden.\n",
    "\n",
    "(TP=True positive (korrekt positiv erkannt), TN=True negative (korrekt negativ erkannt), FP=False positive (fälschlich positiv erkannt),  FN=False negativ (fälschlich negativ erkannt)).\n",
    "\n",
    "Beachten Sie, dass Sie entscheiden müssen, welchen Fall (dead oder live) Sie als positiv definieren."
   ]
  },
  {
   "cell_type": "code",
   "execution_count": null,
   "metadata": {},
   "outputs": [],
   "source": [
    "TrueDead=\n",
    "\n",
    "FalseLive=\n",
    "\n",
    "TrueLive=\n",
    "\n",
    "FalseDead=\n",
    "\n",
    "SensDead=TrueDead/(TrueDead+FalseLive) \n",
    "\n",
    "SpezDead=TrueLive/(TrueLive+FalseDead) \n",
    "\n",
    "SensLive=TrueLive/(TrueLive+FalseDead) \n",
    "\n",
    "SpezLive=TrueDead/(TrueDead+FalseLive) "
   ]
  },
  {
   "cell_type": "markdown",
   "metadata": {},
   "source": [
    " Wiederholen Sie die Vorhersage mit den kontinuierlichen Merkmalen *age* und *yronset*. Hier ist keine Vorverarbeitung der Merkmale notwendig, aber eine Vorverarbeitung der Klassen.\n"
   ]
  },
  {
   "cell_type": "code",
   "execution_count": null,
   "metadata": {},
   "outputs": [],
   "source": [
    "from sklearn.naive_bayes import GaussianNB\n",
    "\n",
    "myGNB=GaussianNB() \n",
    "\n",
    "#Beobachtungsdaten zur Vorhersage\n",
    "X=mifem.iloc[:,2:4]\n",
    "\n",
    "\n",
    "\n",
    "\n",
    "#Vorhersage-Variable \n",
    "Y=mifem.iloc[:,1]\n",
    "\n",
    "#Transformation der Klassen#\n",
    "encL = preprocessing.LabelEncoder()\n",
    "encL.fit(Y)\n",
    "classes=encL.transform(Y)\n",
    "\n",
    "\n",
    "#Naives Bayes Modell\n",
    "myBayesGauss = myGNB.fit()\n",
    "\n",
    "#Vorhersagen mit dem Modell für die Daten\n",
    "Predicted=\n",
    "Label=\n",
    "\n",
    "\n",
    "correct = \n",
    "\n",
    "print('%.2f %% der Fälle werden korrekt vorhergesagt.' %correct)"
   ]
  }
 ],
 "metadata": {
  "kernelspec": {
   "display_name": "Python 3",
   "language": "python",
   "name": "python3"
  },
  "language_info": {
   "codemirror_mode": {
    "name": "ipython",
    "version": 3
   },
   "file_extension": ".py",
   "mimetype": "text/x-python",
   "name": "python",
   "nbconvert_exporter": "python",
   "pygments_lexer": "ipython3",
   "version": "3.7.4"
  }
 },
 "nbformat": 4,
 "nbformat_minor": 2
}

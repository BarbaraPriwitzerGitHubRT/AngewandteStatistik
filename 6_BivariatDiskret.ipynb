{
 "cells": [
  {
   "cell_type": "markdown",
   "metadata": {},
   "source": [
    "Kontingenztafeln, gestapelte und gruppierte Balkendiagramm, Risiko\n",
    "--\n",
    "Verwenden Sie die Daten {\\tt airbag.csv} für diese Aufgabe; eine genaue Beschreibung der Daten finden Sie auf der Seite http://vincentarelbundock.github.io/Rdatasets/doc/DAAG/nassCDS.html"
   ]
  },
  {
   "cell_type": "code",
   "execution_count": 2,
   "metadata": {},
   "outputs": [],
   "source": [
    "import os, sys\n",
    "import math\n",
    "import numpy as np\n",
    "import scipy\n",
    "import pandas as pd\n",
    "import matplotlib.pyplot as plt #Graphik Package\n",
    "\n",
    "\n",
    "airbag=pd.read_table('airbag.csv',delimiter=',')"
   ]
  },
  {
   "cell_type": "markdown",
   "metadata": {},
   "source": [
    " Berechnen Sie die Kontingenztabelle für die beiden Variable *dead* und *seatbelt*."
   ]
  },
  {
   "cell_type": "code",
   "execution_count": 3,
   "metadata": {},
   "outputs": [],
   "source": [
    "tab = pd.crosstab( , )\n"
   ]
  },
  {
   "cell_type": "markdown",
   "metadata": {},
   "source": [
    "Zeichnen Sie ein gruppiertes oder gestapeltes Stabdiagramm zu der Kontingenztabelle; fügen Sie einen Titel und eine Legende hinzu. "
   ]
  },
  {
   "cell_type": "code",
   "execution_count": 4,
   "metadata": {},
   "outputs": [
    {
     "data": {
      "image/png": "[encoded data removed]",
      "text/plain": [
       "<Figure size 432x288 with 1 Axes>"
      ]
     },
     "metadata": {
      "needs_background": "light"
     },
     "output_type": "display_data"
    }
   ],
   "source": [
    "N = 2\n",
    "\n",
    "fig, ax = plt.subplots()\n",
    "\n",
    "ind = np.arange(N)    # the x locations for the groups\n",
    "width = 0.35         # the width of the bars\n",
    "p1 = ax.bar( , , width, color='r', bottom= ) #Gruppe 1\n",
    "\n",
    "p2 = ax.bar( , , width,color='y', bottom= ) # Gruppe 2\n",
    "\n",
    "ax.set_title(' ')\n",
    "ax.set_xticks( )\n",
    "ax.set_xticklabels((  ))\n",
    "\n",
    "ax.legend( )\n",
    "\n",
    "\n",
    "plt.show()"
   ]
  },
  {
   "cell_type": "markdown",
   "metadata": {},
   "source": [
    "Berechnen Sie die Odds Ratio für die Kontingenztabelle und interpretieren Sie den Wert, den Sie erhalten.\n"
   ]
  },
  {
   "cell_type": "code",
   "execution_count": 7,
   "metadata": {},
   "outputs": [
    {
     "name": "stdout",
     "output_type": "stream",
     "text": [
      "2.628037984870433\n"
     ]
    }
   ],
   "source": [
    "OR=()\n",
    "print(OR)"
   ]
  },
  {
   "cell_type": "code",
   "execution_count": null,
   "metadata": {},
   "outputs": [],
   "source": []
  }
 ],
 "metadata": {
  "kernelspec": {
   "display_name": "Python 3",
   "language": "python",
   "name": "python3"
  },
  "language_info": {
   "codemirror_mode": {
    "name": "ipython",
    "version": 3
   },
   "file_extension": ".py",
   "mimetype": "text/x-python",
   "name": "python",
   "nbconvert_exporter": "python",
   "pygments_lexer": "ipython3",
   "version": "3.7.4"
  }
 },
 "nbformat": 4,
 "nbformat_minor": 2
}

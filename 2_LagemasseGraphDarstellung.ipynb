{
 "cells": [
  {
   "cell_type": "code",
   "execution_count": 3,
   "metadata": {},
   "outputs": [],
   "source": [
    "#Einlesen der Packages\n",
    "\n",
    "import os, sys\n",
    "import math\n",
    "import numpy as np\n",
    "import scipy\n",
    "import pandas as pd\n",
    "import matplotlib.pyplot as plt #Graphik Package\n",
    "\n",
    "#falls Sie lokal arbeiten: Pfad anpassen\n",
    "#os.chdir('C:\\\\Users\\\\myUser\\\\myDirectory')\n",
    "# den Pfad erhalten Sie durch den File Explorer:\n",
    "# gehen Sie im File Explorer auf den Ordner, in dem die Datei liegt, die Sie einlesen wollen\n",
    "# klicken Sie in der Pfadleiste unter dem Menü auf das gelbe Buch\n",
    "# kopieren Sie den Pfad, der dort erscheint\n",
    "# ändern Sie alle \\ in \\\\ oder / (Unix format)\n",
    "\n",
    "#Daten einlesen\n",
    "ff=pd.read_table('forestfires.csv',delimiter=',')\n",
    "\n"
   ]
  },
  {
   "cell_type": "markdown",
   "metadata": {},
   "source": [
    "Eine Häufigkeitstabelle für ein qualitatives oder diskretes Merkmal erhalten Sie durch die Python Methode *.value_counts()* für eine Spalte eines Data Frame.\n",
    "\n"
   ]
  },
  {
   "cell_type": "code",
   "execution_count": 4,
   "metadata": {},
   "outputs": [],
   "source": [
    "dayData=ff.day #Spalte auwählen: Tag\n",
    "tab_dayData=dayData.value_counts()"
   ]
  },
  {
   "cell_type": "markdown",
   "metadata": {},
   "source": [
    "Im nächsten Schritt ordnen wir die Reihen der Tabelle *myFreqT* nach der Reihenfolge der Wochentage. Dazu bestimmen Sie die korrekte Reihenfolge über einen Index *myIndex*, der die Zahlen 0 bis 6 in der Reihenfolge enthält, so dass die Reihennummern nun nach der Reihenfolge der Wochentage geordnet werden. Dann ist *myFreq=myFreqT.iloc[myIndex]* die Häufigkeitstabelle mit den Wochentagen und Reihen in der korrekten Reihenfolge."
   ]
  },
  {
   "cell_type": "code",
   "execution_count": 5,
   "metadata": {},
   "outputs": [],
   "source": [
    "myIndex=[] #korrekte Reihenfolge der Wochentage angeben\n",
    "myFreq=tab_dayData.iloc[myIndex]"
   ]
  },
  {
   "cell_type": "markdown",
   "metadata": {},
   "source": [
    " Ändern Sie nun die Namen der Tage in vollständige Namen durch\n",
    "\n"
   ]
  },
  {
   "cell_type": "code",
   "execution_count": 6,
   "metadata": {},
   "outputs": [
    {
     "ename": "SyntaxError",
     "evalue": "invalid syntax (<ipython-input-6-7cd366498eab>, line 1)",
     "output_type": "error",
     "traceback": [
      "\u001b[1;36m  File \u001b[1;32m\"<ipython-input-6-7cd366498eab>\"\u001b[1;36m, line \u001b[1;32m1\u001b[0m\n\u001b[1;33m    myFreq.index=['Monday','Tuesday', ..] #hier die Namen ergänzen\u001b[0m\n\u001b[1;37m                                      ^\u001b[0m\n\u001b[1;31mSyntaxError\u001b[0m\u001b[1;31m:\u001b[0m invalid syntax\n"
     ]
    }
   ],
   "source": [
    "myFreq.index=['Monday','Tuesday', ..] #hier die Namen ergänzen"
   ]
  },
  {
   "cell_type": "markdown",
   "metadata": {},
   "source": [
    "Ein Tortendiagramm für die relativen Häufigkeiten erhalten Sie durch:"
   ]
  },
  {
   "cell_type": "code",
   "execution_count": null,
   "metadata": {},
   "outputs": [],
   "source": [
    "plt.pie(myFreq,colors=['violet','blue','green','yellow','orange','red','brown']) #Tortendiagramm aus dem Package matplotlib\n",
    "plt.title(u'Wochentage') #Titel\n",
    "labels=myFreq.index #Labels für Legende\n",
    "plt.legend(labels,loc='upper right') #Legende"
   ]
  },
  {
   "cell_type": "markdown",
   "metadata": {},
   "source": [
    "Wiederholen Sie nun alles, um eine Häufigkeitstabelle und ein Tortendiagramm für die Monate zu erhalten.\n"
   ]
  },
  {
   "cell_type": "code",
   "execution_count": null,
   "metadata": {},
   "outputs": [],
   "source": []
  },
  {
   "cell_type": "markdown",
   "metadata": {},
   "source": [
    "Ein Säulendiagramm für die absoluten Häufigkeiten erhalten Sie durch:"
   ]
  },
  {
   "cell_type": "code",
   "execution_count": null,
   "metadata": {},
   "outputs": [],
   "source": [
    "plt.xticks(rotation='vertical')\n",
    "plt.bar(myFreq.index,myFreq)\n"
   ]
  },
  {
   "cell_type": "markdown",
   "metadata": {},
   "source": [
    "Für die Temperatur soll ein Histogramm gezeichnet werden. Dies erhalten Sie durch *plt.hist()*. Dabei wird die Klasseneinteilung heuristisch gewählt. Die Klasseneinteilung können Sie auch selber festlegen, in dem Sie Beginn und Ende der Klassen in einem Array angeben, z.B. *myBins=[0,5,10,15,20,25,30,35]* oder *myBins=range(0,40,8)*. Dann können Sie durch *plt.hist(myData,bins=myBins)* eine Histogramm mit diesen Klasseneinteilungen zeichnen. \n",
    "\n",
    "Testen Sie verschiedene Klasseneinteilungen.\n",
    "\n",
    "Wenn Sie  die Option *plt.hist(,normed=True)* verwenden, wird auf der $y$-Achse nicht die absolute, sondern die relative Wahrscheinlichkeit angezeigt."
   ]
  },
  {
   "cell_type": "code",
   "execution_count": null,
   "metadata": {},
   "outputs": [],
   "source": [
    "plt.hist(ff.temp)\n",
    "bins=[0,5,10,15,20,25,30,35]\n",
    "plt.hist(ff.temp,bins=bins) \n",
    "plt.hist(ff.temp,normed=True)"
   ]
  },
  {
   "cell_type": "markdown",
   "metadata": {},
   "source": [
    "Berechnen Sie für die Variable *area* Mittelwert mit Hilfe von *np.mean()* und Median *np.median()*. Vergleichen Sie die beiden Werte.\n",
    "\n",
    "Verwenden Sie die Funktion *mode()* aus dem {*statistics* Package, um den Modus einer Variable zu bestimmen. Berechnen Sie den Modus für die Variable *month*. In welchem Monat sind Waldbrände am häufigsten?"
   ]
  },
  {
   "cell_type": "code",
   "execution_count": 7,
   "metadata": {},
   "outputs": [],
   "source": [
    "from statistics import mode"
   ]
  },
  {
   "cell_type": "code",
   "execution_count": null,
   "metadata": {},
   "outputs": [],
   "source": []
  }
 ],
 "metadata": {
  "kernelspec": {
   "display_name": "Python 3",
   "language": "python",
   "name": "python3"
  },
  "language_info": {
   "codemirror_mode": {
    "name": "ipython",
    "version": 3
   },
   "file_extension": ".py",
   "mimetype": "text/x-python",
   "name": "python",
   "nbconvert_exporter": "python",
   "pygments_lexer": "ipython3",
   "version": "3.7.4"
  }
 },
 "nbformat": 4,
 "nbformat_minor": 2
}

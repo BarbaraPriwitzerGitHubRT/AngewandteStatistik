{
 "cells": [
  {
   "cell_type": "markdown",
   "metadata": {},
   "source": [
    "Einführung in Python\n",
    "==\n",
    "\n",
    "### Lernziele\n",
    "- Sie kennen die Grundstrukturen von Python.\n",
    "- Sie können mit Python Daten einlesen und auf die Daten zugreifen.\n",
    "\n",
    "\n",
    "Die Funktion *read_table*\n",
    "--\n",
    "\n",
    "\n",
    "\n",
    "Die Funktion *read\\_table('*.*')*, aus dem Package *pandas*, ermöglicht es, Daten  von einer Datei einzulesen. Informieren Sie sich über die Optionen dieser Funktion in der Dokumentation zu Pandas http://pandas.pydata.org.  \n",
    "\n",
    "### Separator \n",
    "Beachten müssen Sie beim Einlesen insbesondere, wie die einzelnen Einträge der Tabelle getrennt sind (öffnen Sie dazu die einzulesende Datei mit einem einfachen Text-Editor wie *Wordpad*, nicht mit Excel!). Die Trennzeichen geben Sie mit Hilfe der Option *sep = ';'*  o.ä. an. Der Default - Wert für den Separator ist der Tabulator \\t. \n",
    "\n",
    "    "
   ]
  },
  {
   "cell_type": "code",
   "execution_count": 1,
   "metadata": {},
   "outputs": [
    {
     "data": {
      "text/plain": [
       "<bound method NDFrame.head of      X  Y month  day  FFMC    DMC     DC   ISI  temp    RH  wind  rain   area\n",
       "0    7  5   mar  fri  86.2   26.2   94.3   5.1   8.2  51.0   6.7   0.0   0.00\n",
       "1    7  4   oct  tue  90.6   35.4  669.1   6.7  18.0  33.0   0.9   0.0   0.00\n",
       "2    7  4   oct  sat  90.6   43.7  686.9   6.7  14.6  33.0   1.3   0.0   0.00\n",
       "3    8  6   mar  fri  91.7   33.3   77.5   9.0   8.3   NaN   4.0   0.2   0.00\n",
       "4    8  6   mar  sun  89.3   51.3  102.2   9.6  11.4  99.0   1.8   0.0   0.00\n",
       "..  .. ..   ...  ...   ...    ...    ...   ...   ...   ...   ...   ...    ...\n",
       "512  4  3   aug  sun  81.6   56.7  665.6   1.9  27.8  32.0   2.7   0.0   6.44\n",
       "513  2  4   aug  sun  81.6   56.7  665.6   1.9  21.9  71.0   5.8   0.0  54.29\n",
       "514  7  4   aug  sun  81.6   56.7  665.6   1.9   NaN  70.0   6.7   0.0  11.16\n",
       "515  1  4   aug  sat  94.4  146.0  614.7  11.3  25.6  42.0   4.0   0.0   0.00\n",
       "516  6  3   nov  tue  79.5    3.0  106.7   1.1  11.8  31.0   4.5   0.0   0.00\n",
       "\n",
       "[517 rows x 13 columns]>"
      ]
     },
     "execution_count": 1,
     "metadata": {},
     "output_type": "execute_result"
    }
   ],
   "source": [
    "import os\n",
    "import numpy as np\n",
    "import scipy\n",
    "import pandas as pd\n",
    "\n",
    "#Waehlen Sie hie den passenden Pfad. \n",
    "#Den Pfad erhalten Sie in Windows, wenn Sie im File-Explorer in den passenden Ordner gehen, \n",
    "#und dann auf das gelbe Symbol vor dem Pfad klicken. Dann können Sie den Pfad direkt kopieren.\n",
    "os.chdir('C:\\\\Users\\\\Priwitzer\\\\Documents\\\\StatistikfIng\\\\Python\\\\1_DatenEinlesen')\n",
    "\n",
    "#Einlesen der Datei\n",
    "ff=pd.read_table('forestfires_na.csv',delimiter=',',na_values='?')\n",
    "\n",
    "ff.head  #gibt einen Überblick über die eingelesene Tabelle.\n"
   ]
  },
  {
   "cell_type": "markdown",
   "metadata": {},
   "source": [
    "Finden Sie heraus, was die Option *na_values='?'* bedeutet. Lesen Sie dazu die Datei ohne diese Option ein und erklären Sie den Unterschied.\n",
    "\n",
    "*ff* ist ein *Data Frame*. Eine Beschreibung der Tabelle ist in *forestfires.names* zu finden. "
   ]
  },
  {
   "cell_type": "code",
   "execution_count": 2,
   "metadata": {},
   "outputs": [
    {
     "name": "stdout",
     "output_type": "stream",
     "text": [
      "(517, 13)\n"
     ]
    }
   ],
   "source": [
    "# Die Anzahl der Zeilen und Spalten der Tabelle erhält man mit Hilfe des DataFrame - Attributs shape.\n",
    "\n",
    "gr=ff.shape\n",
    "print(gr)"
   ]
  },
  {
   "cell_type": "code",
   "execution_count": 3,
   "metadata": {},
   "outputs": [],
   "source": [
    "ff_na=ff.dropna(axis=0) #streicht die Zeilen, in denen ein Missing Value (NaN) vorkommt. \n",
    "    \n",
    "#In wievielen Zeilen gibt es einen Missing Value?"
   ]
  },
  {
   "cell_type": "markdown",
   "metadata": {},
   "source": [
    "Die Datei *forestfires.csv* enthält keine Missing Values. Lesen Sie diese ein.\n",
    "\n",
    "Die Spaltenbezeichnungen der Tabelle erhalten Sie über *ff.columns.values*. \n",
    "\n",
    "Auf einzelne Elemente der Tabelle greifen Sie über *ff.iloc[n-1,m-1]* zu, um das Element der *n*-ten Zeile und *m*-ten Spalte zu erhalten. (Achtung: In Python beginnt die Zählung eines Arrays immer mit 0.) Ganze Spalten können Sie z.B. auswählen mit *ff.rain* (oder ein anderer Spaltenname) oder über die Spaltenzahl *j* mit *ff.iloc[:,j-1]*. Zeilen wählt man durch die Indizierung *ff.iloc[2:6,:]* hierbei erhalten Sie die Zeilen 2:6 **ausschließlich** Zeile 6.\n",
    "\n",
    "Welchen Werte hat der 100. Datensatz für die Variable *wind*?"
   ]
  },
  {
   "cell_type": "code",
   "execution_count": null,
   "metadata": {},
   "outputs": [],
   "source": []
  },
  {
   "cell_type": "markdown",
   "metadata": {},
   "source": [
    "Sie können Elemente mit bestimmten Eigenschaften aus der Tabelle filtern. Die Indizes der Datensätze mit Temperatur über 25$^\\circ$ erhalten Sie  folgendermaßen:\n"
   ]
  },
  {
   "cell_type": "code",
   "execution_count": 6,
   "metadata": {},
   "outputs": [],
   "source": [
    "heiss=ff.temp>25\n",
    "# gefilterte Daten, die nur noch Datensätze mit einer Temperatur über 25∘ enthalten, definiert man durch\n",
    "heisseTage=ff[heiss]"
   ]
  },
  {
   "cell_type": "markdown",
   "metadata": {},
   "source": [
    "Wie viele Datensätze haben eine Temperatur über  25$^\\circ$? An wie vielen Tagen gab es Regen (Regenmenge mehr als 0 mm)?"
   ]
  },
  {
   "cell_type": "code",
   "execution_count": 7,
   "metadata": {},
   "outputs": [
    {
     "data": {
      "text/plain": [
       "(65, 13)"
      ]
     },
     "execution_count": 7,
     "metadata": {},
     "output_type": "execute_result"
    }
   ],
   "source": [
    "heisseTage.shape"
   ]
  },
  {
   "cell_type": "markdown",
   "metadata": {},
   "source": [
    "Der Befehl *ff.sort\\_values(by=['VariableName'], ascending =True or False)* sortiert die Tabelle nach der Spalte mit dem entsprechenden Variablennamen aufsteigend oder absteigend. Sortieren Sie die Tabelle *ff* nach dem Drought Code (DC) des Canadian Forest Fire Weather Index (FWI) Systems. Ein kleiner Drought Code bedeutet starke Trockenheit. Welchen Wert hat der höchste bzw. der geringsten Drought Code?"
   ]
  },
  {
   "cell_type": "code",
   "execution_count": null,
   "metadata": {},
   "outputs": [],
   "source": []
  },
  {
   "cell_type": "markdown",
   "metadata": {},
   "source": [
    "Bilden Sie eine Tabelle mit den Spalten *day, wind, temp, area* aus den Daten *ff*, welche alle Datensätze des Monats August (Variable *month*) enthält, bei denen die verbrannte Fläche (Variable *area*) größer ist als 0. Wie viele Zeilen und  wie viele Spalten enthält idiese Tabelle?\n",
    "\n",
    "Hinweise: Strings können Sie mit Hilfe der Funktion *str.contains* vergleichen, also z.B. {\\tt ff['day'].str.contains('tue')}. Wenn Sie Variablennamenzusammenfassen  durch ({\\tt vars=['DC','ISI','rain']}), dann enthält {\\tt ff.loc(:,vars)} nur noch diese Variable."
   ]
  },
  {
   "cell_type": "code",
   "execution_count": 10,
   "metadata": {},
   "outputs": [
    {
     "data": {
      "text/plain": [
       "0      False\n",
       "1       True\n",
       "2      False\n",
       "3      False\n",
       "4      False\n",
       "       ...  \n",
       "512    False\n",
       "513    False\n",
       "514    False\n",
       "515    False\n",
       "516     True\n",
       "Name: day, Length: 517, dtype: bool"
      ]
     },
     "execution_count": 10,
     "metadata": {},
     "output_type": "execute_result"
    }
   ],
   "source": [
    "#Hinweise\n",
    "\n",
    "vars=['DC','ISI','rain'] # vars ist eine Liste der Variablennamen\n",
    "ff.loc[:,vars] # loc kann auf Namen zugreifen \n",
    "\n",
    "ff['day'].str.contains('tue') #Strings können Sie mit Hilfe der Funktion str.contains vergleichen"
   ]
  },
  {
   "cell_type": "code",
   "execution_count": null,
   "metadata": {},
   "outputs": [],
   "source": []
  }
 ],
 "metadata": {
  "kernelspec": {
   "display_name": "Python 3",
   "language": "python",
   "name": "python3"
  },
  "language_info": {
   "codemirror_mode": {
    "name": "ipython",
    "version": 3
   },
   "file_extension": ".py",
   "mimetype": "text/x-python",
   "name": "python",
   "nbconvert_exporter": "python",
   "pygments_lexer": "ipython3",
   "version": "3.7.4"
  }
 },
 "nbformat": 4,
 "nbformat_minor": 2
}

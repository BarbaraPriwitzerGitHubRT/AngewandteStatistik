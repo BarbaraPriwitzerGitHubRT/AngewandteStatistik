{
 "cells": [
  {
   "cell_type": "markdown",
   "metadata": {},
   "source": [
    "Diskrete Zufallsvariable\n",
    "--\n",
    "Sie sollen $n$-maliges Würfeln mit $k$ Würfeln simulieren und dann jeweils die Augensumme der gewürfelten Zahlen bilden sowie  die Anzahl Sechsen pro Wurf zählen und dies in einem Stabdiagramm darstellen. "
   ]
  },
  {
   "cell_type": "code",
   "execution_count": 1,
   "metadata": {},
   "outputs": [],
   "source": [
    "import os, sys\n",
    "import math\n",
    "import numpy as np\n",
    "import scipy\n",
    "import pandas as pd\n",
    "import matplotlib.pyplot as plt #Graphik Package\n",
    "\n"
   ]
  },
  {
   "cell_type": "markdown",
   "metadata": {},
   "source": [
    "Erfragen Sie von einem Nutzer als Eingabe  die Anzahl der Würfel $k$, mit denen gewürfelt wird, und die Anzahl der Würfe $n$, die ausgeführt werden sollen."
   ]
  },
  {
   "cell_type": "code",
   "execution_count": 3,
   "metadata": {},
   "outputs": [],
   "source": [
    "\n",
    "Wuerfel =    #Anzahl der Würfel abfragen\n",
    "\n",
    "\n",
    "\n",
    "AnzahlWuerfe =   #Anzahl der Würfe abfragen\n",
    "\n",
    "\n",
    "\n",
    "\n"
   ]
  },
  {
   "cell_type": "markdown",
   "metadata": {},
   "source": [
    " Simulieren Sie Würfeln mit der Python - Funktion *np.random.randint(6, size=k)+1}*,  durch die $k$ gleichverteilte Zufallszahlen von 1 bis 6 erzeugt werden. Führen Sie dies $n$-mal aus  und schreiben Sie die Werte in eine $n \\times k$ - Matrix.\n"
   ]
  },
  {
   "cell_type": "code",
   "execution_count": 4,
   "metadata": {},
   "outputs": [],
   "source": [
    "#Initialisierung eines Arrays zum Eintragen der Augenzahlen\n",
    "augen = np.zeros((AnzahlWuerfe,Wuerfel))\n",
    "for k in range(AnzahlWuerfe):\n",
    "    augen[k,:]=np.random.randint(6, size=Wuerfel)+1"
   ]
  },
  {
   "cell_type": "markdown",
   "metadata": {},
   "source": []
  },
  {
   "cell_type": "markdown",
   "metadata": {},
   "source": [
    "Bestimmen Sie für jeden Wurf die Augensumme der $k$ Würfel. Hilfreich ist hier die Python-Methode *sum(i)*, die für $i=0$ die Einträge in der Matrix spaltenweise addiert und für $i=1$ reihenweise. Berechnen Sie dann die Häufigkeitstabelle dieser Augensumme durch die Methode *value\\_counts()* und stellen Sie diese graphisch als Stabdiagramm dar.\n"
   ]
  },
  {
   "cell_type": "code",
   "execution_count": 5,
   "metadata": {},
   "outputs": [
    {
     "ename": "SyntaxError",
     "evalue": "invalid syntax (<ipython-input-5-10bdd5e45592>, line 3)",
     "output_type": "error",
     "traceback": [
      "\u001b[1;36m  File \u001b[1;32m\"<ipython-input-5-10bdd5e45592>\"\u001b[1;36m, line \u001b[1;32m3\u001b[0m\n\u001b[1;33m    ergebnisse =   #Summe der Augenzahlen\u001b[0m\n\u001b[1;37m                                          ^\u001b[0m\n\u001b[1;31mSyntaxError\u001b[0m\u001b[1;31m:\u001b[0m invalid syntax\n"
     ]
    }
   ],
   "source": [
    "# Summe der Augenzahlen pro Wurf berechnen und darstellen\n",
    "    \n",
    "ergebnisse =   #Summe der Augenzahlen \n",
    "ErgSeries = pd.Series(ergebnisse) #Umwandlung des Array in eine Liste\n",
    "Tab =  #Häufigkeitstabelle zur Summe der Augenzahlen\n",
    "plt.bar(  )  #Stabdiagramm\n",
    "plt.title('Augensumme beim %i-maligen Würfeln mit %i Würfeln' %(AnzahlWuerfe,Wurfel))\n"
   ]
  },
  {
   "cell_type": "markdown",
   "metadata": {},
   "source": [
    "Bestimmen Sie nun die Anzahl der Sechsen pro Wurf.  Gehen Sie mit Hilfe einer Schleife durch alle Zeilen der Matrix, welche die Würfelzahlen enthält, und zählen Sie in diesen Zeilen die Sechsen.\n",
    "\n",
    "\n",
    "Berechnen Sie  wieder eine Häufigkeitstabelle für die Anzahl der Sechsen und stellen Sie diese als Stabdiagramm dar."
   ]
  },
  {
   "cell_type": "code",
   "execution_count": null,
   "metadata": {},
   "outputs": [],
   "source": [
    "# Anzahl der Sechsen pro Wurf berchnen und darstellen\n",
    "sechsen =np.zeros((AnzahlWuerfe,1)) #Initialisierung\n",
    "for k in range(AnzahlWuerfe):\n",
    "    sechsen[k,0]=sum(augen[k,:]==6) #Bestimmung der Anzahl Sechsen pro Wurf\n",
    "\n",
    "SechsenSeries = pd.Series(sechsen[:,0])\n",
    "Tab6 =  # Häufigkeitstabelle\n",
    "plt.figure()\n",
    "plt.    #Stabdiagramm\n",
    "plt.title(  )   "
   ]
  }
 ],
 "metadata": {
  "kernelspec": {
   "display_name": "Python 3",
   "language": "python",
   "name": "python3"
  },
  "language_info": {
   "codemirror_mode": {
    "name": "ipython",
    "version": 3
   },
   "file_extension": ".py",
   "mimetype": "text/x-python",
   "name": "python",
   "nbconvert_exporter": "python",
   "pygments_lexer": "ipython3",
   "version": "3.7.4"
  }
 },
 "nbformat": 4,
 "nbformat_minor": 2
}

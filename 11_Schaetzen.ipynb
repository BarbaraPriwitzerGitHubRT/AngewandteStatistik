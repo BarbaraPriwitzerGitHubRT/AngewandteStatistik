{
 "cells": [
  {
   "cell_type": "markdown",
   "metadata": {},
   "source": [
    "Punkt- und Intervallschätzung in Python\n",
    "--\n",
    "Für diese Aufgabe verwenden wir die Daten  *AirQualityUCI.csv* von Luftwertemessungen in einer italienischen Stadt aus den Jahren 2004/5. Eine genauere Beschreibung der Daten finden Sie unter *AirQualityUCI.txt*.\n",
    "\n",
    "\n",
    "Zunächst werden alle Werte -200 oder -2000 durch NaN ersetzt(dies sind fehlende Messdaten, wie aus der Datenbeschreibung hervorgeht)."
   ]
  },
  {
   "cell_type": "code",
   "execution_count": null,
   "metadata": {},
   "outputs": [],
   "source": [
    "airQuality=pd.read_table('AirQualityUCI.csv',delimiter=',')\n",
    "\n",
    "#Replacing Missing Values \n",
    "AirQuality=airQuality.replace(-200,np.nan)\n",
    "AirQuality=AirQuality.replace(-2000,np.nan)\n",
    "\n",
    "#gewählte Variable\n",
    "myVariable=' '"
   ]
  },
  {
   "cell_type": "markdown",
   "metadata": {},
   "source": [
    "Wir sortieren zunächst die Monatsnamen."
   ]
  },
  {
   "cell_type": "code",
   "execution_count": null,
   "metadata": {},
   "outputs": [],
   "source": [
    "Monatsnamen=list(set(AirQuality.Month.values))\n",
    "\n",
    "#Ordnung von Monatsnamen an die korrekte Ordnung anpassen\n",
    "myorder = []\n",
    "for k in range(12):\n",
    "    myIndex=Monatsnamen.index(correctOrder[k])\n",
    "    myorder.append(myIndex)\n",
    "    \n",
    "#Ordnung entsprechend ändern\n",
    "Monatsnamen = [Monatsnamen[i] for i in myorder]\n"
   ]
  },
  {
   "cell_type": "markdown",
   "metadata": {},
   "source": [
    " Filtern Sie die Daten nach Monaten. Zunächst  nehmen wir an, dass die Schadstoffkonzentration normalverteilt ist.  Berechnen Sie für jeden Monat das 95\\%-Konfidenzintervall für den Erwartungswert der Schadstoffkonzentration mit Hilfe der Python-Funktion *ci = scipy.stats.norm.interval(0.95, myMean, mySigma)*.\n",
    "\n",
    "Das Konfidenzintervall *ci* gibt die untere und die obere Grenze des Intervalls an. Hierbei ist *myMean* der Mittelwert der Schadstoffkonzentrationen eines Monats und *mySigma* die zugehörige Standardabweichung geteilt durch $\\sqrt{n}$, wobei $n$ die Anzahl der Daten ist, für die das Konfidenzintervall berechnet wird.\n",
    "\n",
    "Stellen Sie das monatliche Konfidenzintervall $[u,o]$ graphisch als horizontale Linie dar. Starten Sie mit einer Linie auf Höhe $y=0$ und zeichnen Sie jedes neue Konfidenzintervall 0.5 höher. So erhalten Sie schließlich 12 waagrechte Linien.\n"
   ]
  },
  {
   "cell_type": "code",
   "execution_count": null,
   "metadata": {},
   "outputs": [],
   "source": [
    "plt.figure()\n",
    "for k in range(12):\n",
    "    # Daten nach Monaten filtern\n",
    "    x=AirQuality[AirQuality['Month']==Monatsnamen[k]]\n",
    "    x=x[myVariable]\n",
    "    \n",
    "    # Parameter und zugehoerige Konfidenzintervalle bestimmen\n",
    "    mySigma=\n",
    "    myMean=\n",
    "    \n",
    "    ci = scipy.stats.norm.interval(0.95, myMean, mySigma)\n",
    "    # Konfidenzintervall für den Monat graphisch darstellen\n",
    "    plt.plot([ , ],[k/2,k/2])\n",
    "    \n",
    "plt.title('Monatliche Konfidenzintervalle für'+myVariable)\n",
    "plt.ylabel('Monate')\n",
    "plt.yticks(np.arange(0, 6, step=0.5),Monatsnamen)\n",
    "\n"
   ]
  },
  {
   "cell_type": "markdown",
   "metadata": {},
   "source": [
    " Ergänzen Sie die Graphik durch eine vertikale Linie, welche die $x$-Achse im Mittelwert der Schadstoffkonzentration aus allen Monaten schneidet. Fügen Sie außerdem das Konfidenzintervall für den Erwartungswert der Schadstoffkonzentration über das ganze Jahr hinzu.  Erklären Sie Ihre Beobachtungen anhand der Graphik."
   ]
  },
  {
   "cell_type": "code",
   "execution_count": null,
   "metadata": {},
   "outputs": [],
   "source": [
    "# Schaetzwert aus allen Daten als vertikale Linie darstellen\n",
    "plt.plot([ , ],[0,k/2+1],c='black')\n",
    "#Konfidenzintervall für Gesamtvariable\n",
    "x=AirQuality[myVariable]\n",
    "\n",
    "mySigma=\n",
    "myMean=\n",
    "\n",
    "ci = scipy.stats.norm.interval(0.95, myMean, mySigma)\n",
    "# Konfidenzintervall für Gesamtvariablegraphisch darstellen\n",
    "plt.plot([ , ],[k/2+1/4,k/2+1/4],linewidth=3,c='magenta')\n"
   ]
  },
  {
   "cell_type": "markdown",
   "metadata": {},
   "source": [
    " Wenn die Verteilung des Wertes, für den das Konfidenzintervall berechnet werden soll, nicht bekannt ist, so kann das Konfidenzintervalle mit Hilfe der **Bootstrap - Methode** berechnet werden. Dazu geht man  z.B. beim Konfidenzintervall für den Erwartungswert folgendermaßen vor:\n",
    "1. Gegeben sind $n$ Daten mit Mittelwert $\\bar x$.\n",
    "2. Es wird eine große Zahl $N$ gewählt, z.B. $N=1000$.\n",
    "3. Dann werden aus den $n$ Daten zufällig $n$ Daten **mit Zurücklegen** gezogen und für diese Daten wird der Mittelwert $\\bar x^*$ berechnet. Dann bestimmt man $\\delta=\\bar x^*-\\bar x$.(\n",
    "4. Dies wird $N$-mal wiederholt; man erhält so $N$ Werte für $\\delta$: $\\delta_k, k\\in\\{1,2,\\dots, N\\}$. \n",
    "5. Bestimmt wird nun das $0.025$ Quantil $\\delta_{025}$ und das $0.975$ Quantil $\\delta_{975}$  für $\\delta$ und das 95\\% Konfidenzintervall für den Mittelwert ist dann $[\\bar x + \\delta_{025}, \\bar x +\\delta_{975}]$. \n",
    "\n",
    "Bestimmen Sie mit der Bootstrapping Methode das Konfidenzintervall für den Erwartungswert der Schadstoffkonzentration  und vergleichen Sie dieses Konfidenzintervall von oben."
   ]
  },
  {
   "cell_type": "code",
   "execution_count": null,
   "metadata": {},
   "outputs": [],
   "source": [
    "#Konfidenzintervall mit Bootstrapping\n",
    "\n",
    "N=1000\n",
    "n=AirQuality.shape[0]\n",
    "\n",
    "#gewählte Variable aus den Daten\n",
    "myVarVal=AirQuality[myVariable]\n",
    "\n",
    "#delta initialisieren\n",
    "mydelta=[]\n",
    "\n",
    "#Gesamtmittelwert\n",
    "xBar=\n",
    "\n",
    "#Boostrapping - 1000 mal Werte ziehen\n",
    "for k in range(N):\n",
    "    newIndices=np.random.randint(0, n, size=n)\n",
    "    newData=myVarVal[newIndices]\n",
    "    #Mittelwert bilden\n",
    "    xStar=\n",
    "    mydelta.append(xStar-xBar)\n",
    "\n",
    "#Quantile\n",
    "Quant025= np.quantile(mydelta, )\n",
    "Quant975= np.quantile(mydelta, )\n",
    "#Konfidenzintervall bestimmen\n",
    "lower=\n",
    "upper=\n"
   ]
  },
  {
   "cell_type": "markdown",
   "metadata": {},
   "source": [
    "Für NO2 (Stickstoffdioxid) gilt  europaweit  der 1-Stunden-Grenzwert von 200 $\\mu$g/m$^3$, der nicht öfter als 18-mal im Kalenderjahr überschritten werden darf. Bestimmen Sie das 95% Konfidenzintervall des Anteils der Tage, den denen die NO2-Konzentration größer war als  200 $\\mu$g/m$^3$. Dies entspricht der Schätzung des Binomialparameters $p$. Verwenden Sie dazu die Tabelle *AirQualityNO2.csv*, die jeweils den höchsten NO2 - Wert pro Tag enthält.\n",
    "\n",
    "\n",
    "Das Konfidenzintervall erhalten Sie durch\n",
    "\n",
    "*ci=scipy.stats.binom.interval(0.95, n, s/n)*\n",
    "\n",
    "Hierbei ist *s* die Anzahl der Tage mit zu hohen NO2- Werten und *n* ist die Zahl der Messtage insgesamt. Das Konfidenzintervall *ci* gibt die untere und die obere Grenze des Intervalls an.  Dabei nehmen wir an, dass die Zahl der Tage mit zu hoher NO2-Konzentration  binomialverteilt ist. Vergleichen Sie den Schätzwert und das zugehörige Konfidenzintervall mit dem Grenzwert."
   ]
  },
  {
   "cell_type": "code",
   "execution_count": null,
   "metadata": {},
   "outputs": [],
   "source": [
    "#Tage mit zu hoher NO2 Konzentration\n",
    "AirQualityNO2=pd.read_table('AirQualityNO2.csv',delimiter=',')\n",
    "#zu hohe Werte auswählen\n",
    "highNO2=AirQualityNO2.NO2GT>200\n",
    "\n",
    "#Parameter s für scipy.stats.binom.interval\n",
    "s=\n",
    "ci=scipy.stats.binom.interval( , ,)\n",
    "#Vergleichswert\n",
    "18/365*AirQualityNO2.shape[0]\n"
   ]
  }
 ],
 "metadata": {
  "kernelspec": {
   "display_name": "Python 3",
   "language": "python",
   "name": "python3"
  },
  "language_info": {
   "codemirror_mode": {
    "name": "ipython",
    "version": 3
   },
   "file_extension": ".py",
   "mimetype": "text/x-python",
   "name": "python",
   "nbconvert_exporter": "python",
   "pygments_lexer": "ipython3",
   "version": "3.7.4"
  }
 },
 "nbformat": 4,
 "nbformat_minor": 2
}

{
 "cells": [
  {
   "cell_type": "markdown",
   "metadata": {},
   "source": [
    "Lage- und Streuungsmaße\n",
    "--\n",
    "\n",
    "Wir verwenden wieder die Daten {\\tt forestfires.csv}.\n",
    "\n"
   ]
  },
  {
   "cell_type": "code",
   "execution_count": null,
   "metadata": {},
   "outputs": [],
   "source": [
    "import os, sys\n",
    "import math\n",
    "import numpy as np\n",
    "import scipy\n",
    "import pandas as pd\n",
    "\n",
    "ff=pd.read_table('forestfires.csv',delimiter=',')"
   ]
  },
  {
   "cell_type": "markdown",
   "metadata": {},
   "source": [
    "In Python gibt es folgende beide Möglichkeiten, ein Perzentil bzw. Quantil zu berechnen:\n",
    "\n",
    "- Mit *numpy* als Funktion: *np.percentile(myTable.myVariable,p)*, wobei  *p* die gesuchte Prozentzahl zum Perzentil ist.\n",
    "- In *pandas* als Methode von *dataframe*: Hier verwendet man *myTable.myVariable.quantile(q)*, wobei  *q* die gesuchte  Wert zwischen 0 und 1 zum Quantil ist.\n",
    "\n",
    " Berechnen Sie das obere und das untere Quartil für die Temperatur sowie den Interquartilsabstand.\n",
    "\n",
    "\n"
   ]
  },
  {
   "cell_type": "code",
   "execution_count": null,
   "metadata": {},
   "outputs": [],
   "source": []
  },
  {
   "cell_type": "markdown",
   "metadata": {},
   "source": [
    "Auch für die Standardabweichung gibt es zwei Möglichkeiten\n",
    "-  Mit *numpy* als Funktion: *np.std(myTable.myVariable,ddof=1)*.\n",
    "- In *pandas* als Methode von *dataframe*: Hier verwendet man *myTable.myVariable.std()*.\n",
    "\n",
    "Berechnen Sie die Standardabweichung der Temperatur. Ist diese kleiner oder größer als der Interquatilsabstand?\n"
   ]
  },
  {
   "cell_type": "code",
   "execution_count": null,
   "metadata": {},
   "outputs": [],
   "source": []
  },
  {
   "cell_type": "markdown",
   "metadata": {},
   "source": [
    "Einen Boxplot kann man in *matplotlib* zeichnen:\n",
    "    "
   ]
  },
  {
   "cell_type": "code",
   "execution_count": null,
   "metadata": {},
   "outputs": [],
   "source": [
    "import matplotlib.pyplot as plt\n",
    "\n",
    "plt.figure()\n",
    "plt.boxplot(ff.temp)\n",
    "plt.title('Temperatur') #Titel\n",
    "plt.ylabel('Temperatur in $^\\circ$C')"
   ]
  },
  {
   "cell_type": "markdown",
   "metadata": {},
   "source": [
    "Die Option *vert=False* erzeugt einen horizontalen Boxplot. Zeichnen Sie einen horizontalen Boxplot für die Windgeschwindigkeit. "
   ]
  },
  {
   "cell_type": "code",
   "execution_count": null,
   "metadata": {},
   "outputs": [],
   "source": []
  },
  {
   "cell_type": "markdown",
   "metadata": {},
   "source": [
    "Für einen gruppierten Boxplot verwenden Sie das Package seaborn. Dann erhalten Sie mit dem qualitativen oder diskreten Merkmal *myGroupingVariable* mehrere Boxplots für das Merkmal *myVariable* durch \n",
    "\n",
    "*sns.boxplot( myGroupingVariable, myVariable)* \n",
    "\n",
    "Die Option *order=[\"jan\",\"feb\",\\dots]* für *sns.boxplot* erlaubt es, die Gruppen in die gewünschte Reihenfolge zu bringen.\n",
    "\n",
    "Zeichnen Sie einen Boxplot für die Temperatur, der nach den Monaten gruppiert ist."
   ]
  },
  {
   "cell_type": "code",
   "execution_count": null,
   "metadata": {},
   "outputs": [],
   "source": [
    "import seaborn as sns"
   ]
  },
  {
   "cell_type": "markdown",
   "metadata": {},
   "source": [
    "Schreiben Sie eine Python-Funktion, die den Variationskoeffizienten für eine Spalte eines Data Frames berechnet.\n",
    "\n",
    "Eine Funktion in Python startet mit:\n",
    "\n",
    "*def name_of_function(input_values):*\n",
    "\n",
    "Dann folgt der Funktionsablauf mit Einrückung. Durch *return()* definieren Sie die Ausgabewerte der Funktion.\n",
    "\n",
    "\n",
    "Die Bezeichnungen für *name_of_function, input_values* wählen Sie selbst. \n",
    "\n",
    "Als Beispiel finden Sie auf der Relax-Seite die Python-Funktion *doubled*, die Zahlen verdoppelt.\n",
    "\n",
    "Bestimmen Sie den Variationskoeffizienten für die Temperatur."
   ]
  },
  {
   "cell_type": "code",
   "execution_count": null,
   "metadata": {},
   "outputs": [],
   "source": [
    "def varcoeff(x):\n",
    "    \"\"\"Funktion zur Berechnung des Variationskoeffizienten\"\"\"\n",
    "    \"\"\"Eingabewert: Spalte eines Data Frame\"\"\"\n",
    "    \"\"\"Ausgabewert: Variationskoeffizient\"\"\"\n",
    "    vc=                   #berechnen Sie hier den Variationskoeffizienten von x\n",
    "    return(vc)\n",
    "\n",
    "varcoeff(ff.temp)"
   ]
  },
  {
   "cell_type": "markdown",
   "metadata": {},
   "source": [
    "Zeichnen Sie ein Streudiagramm für die beiden Variable DMC und DC und berechnen Sie Kovarianz und Korrelation der beiden Variablen.\n",
    "\n",
    "Der Befehl *plt.scatter(myXVariable,myYVariable)* zeichnet ein Streudiagramm für zwei Variable. Kovarianz bzw. Korrelation können Sie mit Hilfe von *numpy* berechnen: \n",
    "\n"
   ]
  },
  {
   "cell_type": "code",
   "execution_count": null,
   "metadata": {},
   "outputs": [],
   "source": [
    "np.cov(myXVariable,myYVariable)  #setzen Sie für myXVariable,myYVariable die Variable ein, deren Kovarianz bzw. Korrelation Sie berechnen möchten\n",
    "np.corrcoef(myXVariable,myYVariable)"
   ]
  }
 ],
 "metadata": {
  "kernelspec": {
   "display_name": "Python 3",
   "language": "python",
   "name": "python3"
  },
  "language_info": {
   "codemirror_mode": {
    "name": "ipython",
    "version": 3
   },
   "file_extension": ".py",
   "mimetype": "text/x-python",
   "name": "python",
   "nbconvert_exporter": "python",
   "pygments_lexer": "ipython3",
   "version": "3.7.4"
  }
 },
 "nbformat": 4,
 "nbformat_minor": 2
}
